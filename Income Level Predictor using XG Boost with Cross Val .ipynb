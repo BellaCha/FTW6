{
 "cells": [
  {
   "cell_type": "markdown",
   "metadata": {
    "colab_type": "text",
    "id": "4kNt53LjNRCa"
   },
   "source": [
    "# Classification  \n",
    "We use features, and a classifier, to predict categorical variables.  \n",
    "\n",
    "### Steps in doing Classification \n",
    "1. Import Packages \n",
    "2. Load dataset  and set X and y \n",
    "3. Train-test Split  \n",
    "4. Descriptive and Prescriptive Analytics on Train Set  \n",
    "5. Predictive Analytics from Train Set to Test Set  \n",
    "6. Metrics (accuracy, confusion matrix)  \n",
    "7. Explain Results  "
   ]
  },
  {
   "cell_type": "markdown",
   "metadata": {
    "colab_type": "text",
    "id": "xINUwnbqdUK7"
   },
   "source": [
    "# 1. Import Packages"
   ]
  },
  {
   "cell_type": "code",
   "execution_count": 1,
   "metadata": {
    "colab": {},
    "colab_type": "code",
    "id": "-ttO3rdbNE1Y"
   },
   "outputs": [],
   "source": [
    "# IMPORT GENERIC PACKAGES\n",
    "import numpy as np # numerical calc package\n",
    "import pandas as pd # holds data\n",
    "import matplotlib.pyplot as plt # plotting library\n",
    "import seaborn as sns # pretty plotting\n",
    "import pandas_profiling as pp\n",
    "\n",
    "\n",
    "sns.set(rc={'figure.figsize':(20,10)})\n",
    "\n",
    "from sklearn.model_selection import train_test_split # split dataset\n",
    "from sklearn.metrics import confusion_matrix\n",
    "\n",
    "# Classification metrix report\n",
    "from sklearn.metrics import classification_report\n",
    "\n",
    "## CROSS VALIDATION\n",
    "\n",
    "from sklearn.model_selection import cross_val_score\n",
    "\n",
    "##XGBOOAST\n",
    "from xgboost import XGBClassifier\n",
    "\n"
   ]
  },
  {
   "cell_type": "code",
   "execution_count": 2,
   "metadata": {},
   "outputs": [
    {
     "name": "stdout",
     "output_type": "stream",
     "text": [
      "Requirement already satisfied: imblearn in c:\\users\\nancy\\anaconda3\\lib\\site-packages (0.0)\n",
      "Requirement already satisfied: imbalanced-learn in c:\\users\\nancy\\anaconda3\\lib\\site-packages (from imblearn) (0.6.0)\n",
      "Requirement already satisfied: numpy>=1.11 in c:\\users\\nancy\\anaconda3\\lib\\site-packages (from imbalanced-learn->imblearn) (1.16.5)\n",
      "Requirement already satisfied: joblib>=0.11 in c:\\users\\nancy\\anaconda3\\lib\\site-packages (from imbalanced-learn->imblearn) (0.13.2)\n",
      "Requirement already satisfied: scikit-learn>=0.22 in c:\\users\\nancy\\anaconda3\\lib\\site-packages (from imbalanced-learn->imblearn) (0.22)\n",
      "Requirement already satisfied: scipy>=0.17 in c:\\users\\nancy\\anaconda3\\lib\\site-packages (from imbalanced-learn->imblearn) (1.3.1)\n"
     ]
    }
   ],
   "source": [
    "##SMOTE##\n",
    "!pip install imblearn\n",
    "from imblearn.over_sampling import SMOTE"
   ]
  },
  {
   "cell_type": "markdown",
   "metadata": {
    "colab_type": "text",
    "id": "bRG5nBh-aO9j"
   },
   "source": [
    "# 2. Load Data"
   ]
  },
  {
   "cell_type": "code",
   "execution_count": 3,
   "metadata": {
    "colab": {},
    "colab_type": "code",
    "id": "uNVHmdHvWUfs"
   },
   "outputs": [],
   "source": [
    "data = pd.read_csv('census.csv')"
   ]
  },
  {
   "cell_type": "code",
   "execution_count": 4,
   "metadata": {
    "colab": {
     "base_uri": "https://localhost:8080/",
     "height": 197
    },
    "colab_type": "code",
    "executionInfo": {
     "elapsed": 948,
     "status": "ok",
     "timestamp": 1570101629666,
     "user": {
      "displayName": "Xavier P",
      "photoUrl": "https://lh3.googleusercontent.com/a-/AAuE7mADcIs8VuWHhio3G1NE1HR7LLJzb8QdqCi-51KuKg=s64",
      "userId": "13816213392111942970"
     },
     "user_tz": -480
    },
    "id": "fMCTWV2FaSWb",
    "outputId": "77a31d19-5b8d-4304-c7ec-67c0553cdbe1"
   },
   "outputs": [],
   "source": [
    "report = pp.ProfileReport(data)"
   ]
  },
  {
   "cell_type": "code",
   "execution_count": 5,
   "metadata": {},
   "outputs": [],
   "source": [
    "report.to_file('CensusData.html')"
   ]
  },
  {
   "cell_type": "code",
   "execution_count": 6,
   "metadata": {},
   "outputs": [
    {
     "data": {
      "text/plain": [
       "Index(['age', 'workclass', 'education_level', 'education-num',\n",
       "       'marital-status', 'occupation', 'relationship', 'race', 'sex',\n",
       "       'capital-gain', 'capital-loss', 'hours-per-week', 'native-country',\n",
       "       'income'],\n",
       "      dtype='object')"
      ]
     },
     "execution_count": 6,
     "metadata": {},
     "output_type": "execute_result"
    }
   ],
   "source": [
    "data.columns"
   ]
  },
  {
   "cell_type": "code",
   "execution_count": 7,
   "metadata": {},
   "outputs": [
    {
     "data": {
      "text/html": [
       "<div>\n",
       "<style scoped>\n",
       "    .dataframe tbody tr th:only-of-type {\n",
       "        vertical-align: middle;\n",
       "    }\n",
       "\n",
       "    .dataframe tbody tr th {\n",
       "        vertical-align: top;\n",
       "    }\n",
       "\n",
       "    .dataframe thead th {\n",
       "        text-align: right;\n",
       "    }\n",
       "</style>\n",
       "<table border=\"1\" class=\"dataframe\">\n",
       "  <thead>\n",
       "    <tr style=\"text-align: right;\">\n",
       "      <th></th>\n",
       "      <th>age</th>\n",
       "      <th>workclass</th>\n",
       "      <th>education_level</th>\n",
       "      <th>education-num</th>\n",
       "      <th>marital-status</th>\n",
       "      <th>occupation</th>\n",
       "      <th>relationship</th>\n",
       "      <th>race</th>\n",
       "      <th>sex</th>\n",
       "      <th>capital-gain</th>\n",
       "      <th>capital-loss</th>\n",
       "      <th>hours-per-week</th>\n",
       "      <th>native-country</th>\n",
       "      <th>income</th>\n",
       "    </tr>\n",
       "  </thead>\n",
       "  <tbody>\n",
       "    <tr>\n",
       "      <td>0</td>\n",
       "      <td>39</td>\n",
       "      <td>State-gov</td>\n",
       "      <td>Bachelors</td>\n",
       "      <td>13.0</td>\n",
       "      <td>Never-married</td>\n",
       "      <td>Adm-clerical</td>\n",
       "      <td>Not-in-family</td>\n",
       "      <td>White</td>\n",
       "      <td>Male</td>\n",
       "      <td>2174.0</td>\n",
       "      <td>0.0</td>\n",
       "      <td>40.0</td>\n",
       "      <td>United-States</td>\n",
       "      <td>&lt;=50K</td>\n",
       "    </tr>\n",
       "    <tr>\n",
       "      <td>1</td>\n",
       "      <td>50</td>\n",
       "      <td>Self-emp-not-inc</td>\n",
       "      <td>Bachelors</td>\n",
       "      <td>13.0</td>\n",
       "      <td>Married-civ-spouse</td>\n",
       "      <td>Exec-managerial</td>\n",
       "      <td>Husband</td>\n",
       "      <td>White</td>\n",
       "      <td>Male</td>\n",
       "      <td>0.0</td>\n",
       "      <td>0.0</td>\n",
       "      <td>13.0</td>\n",
       "      <td>United-States</td>\n",
       "      <td>&lt;=50K</td>\n",
       "    </tr>\n",
       "    <tr>\n",
       "      <td>2</td>\n",
       "      <td>38</td>\n",
       "      <td>Private</td>\n",
       "      <td>HS-grad</td>\n",
       "      <td>9.0</td>\n",
       "      <td>Divorced</td>\n",
       "      <td>Handlers-cleaners</td>\n",
       "      <td>Not-in-family</td>\n",
       "      <td>White</td>\n",
       "      <td>Male</td>\n",
       "      <td>0.0</td>\n",
       "      <td>0.0</td>\n",
       "      <td>40.0</td>\n",
       "      <td>United-States</td>\n",
       "      <td>&lt;=50K</td>\n",
       "    </tr>\n",
       "    <tr>\n",
       "      <td>3</td>\n",
       "      <td>53</td>\n",
       "      <td>Private</td>\n",
       "      <td>11th</td>\n",
       "      <td>7.0</td>\n",
       "      <td>Married-civ-spouse</td>\n",
       "      <td>Handlers-cleaners</td>\n",
       "      <td>Husband</td>\n",
       "      <td>Black</td>\n",
       "      <td>Male</td>\n",
       "      <td>0.0</td>\n",
       "      <td>0.0</td>\n",
       "      <td>40.0</td>\n",
       "      <td>United-States</td>\n",
       "      <td>&lt;=50K</td>\n",
       "    </tr>\n",
       "    <tr>\n",
       "      <td>4</td>\n",
       "      <td>28</td>\n",
       "      <td>Private</td>\n",
       "      <td>Bachelors</td>\n",
       "      <td>13.0</td>\n",
       "      <td>Married-civ-spouse</td>\n",
       "      <td>Prof-specialty</td>\n",
       "      <td>Wife</td>\n",
       "      <td>Black</td>\n",
       "      <td>Female</td>\n",
       "      <td>0.0</td>\n",
       "      <td>0.0</td>\n",
       "      <td>40.0</td>\n",
       "      <td>Cuba</td>\n",
       "      <td>&lt;=50K</td>\n",
       "    </tr>\n",
       "  </tbody>\n",
       "</table>\n",
       "</div>"
      ],
      "text/plain": [
       "   age          workclass education_level  education-num       marital-status  \\\n",
       "0   39          State-gov       Bachelors           13.0        Never-married   \n",
       "1   50   Self-emp-not-inc       Bachelors           13.0   Married-civ-spouse   \n",
       "2   38            Private         HS-grad            9.0             Divorced   \n",
       "3   53            Private            11th            7.0   Married-civ-spouse   \n",
       "4   28            Private       Bachelors           13.0   Married-civ-spouse   \n",
       "\n",
       "           occupation    relationship    race      sex  capital-gain  \\\n",
       "0        Adm-clerical   Not-in-family   White     Male        2174.0   \n",
       "1     Exec-managerial         Husband   White     Male           0.0   \n",
       "2   Handlers-cleaners   Not-in-family   White     Male           0.0   \n",
       "3   Handlers-cleaners         Husband   Black     Male           0.0   \n",
       "4      Prof-specialty            Wife   Black   Female           0.0   \n",
       "\n",
       "   capital-loss  hours-per-week  native-country income  \n",
       "0           0.0            40.0   United-States  <=50K  \n",
       "1           0.0            13.0   United-States  <=50K  \n",
       "2           0.0            40.0   United-States  <=50K  \n",
       "3           0.0            40.0   United-States  <=50K  \n",
       "4           0.0            40.0            Cuba  <=50K  "
      ]
     },
     "execution_count": 7,
     "metadata": {},
     "output_type": "execute_result"
    }
   ],
   "source": [
    "data.head()\n"
   ]
  },
  {
   "cell_type": "markdown",
   "metadata": {
    "colab_type": "text",
    "id": "RMy_sNrCajaq"
   },
   "source": [
    "### Dataset Description  \n",
    "\n",
    "\n"
   ]
  },
  {
   "cell_type": "code",
   "execution_count": 8,
   "metadata": {
    "colab": {},
    "colab_type": "code",
    "id": "Ik4eJKDMvGMA"
   },
   "outputs": [],
   "source": [
    "# write list of features we want to use\n",
    "features = ['age', 'workclass', 'education_level', 'education-num',\n",
    "       'marital-status', 'occupation', 'relationship', 'race', 'sex',\n",
    "       'capital-gain', 'capital-loss', 'hours-per-week', 'native-country',\n",
    "       'income']\n",
    "\n",
    "# Set X\n",
    "X = data[features]\n",
    "y= data['income']\n",
    "\n"
   ]
  },
  {
   "cell_type": "code",
   "execution_count": 9,
   "metadata": {
    "colab": {},
    "colab_type": "code",
    "id": "uPj6-tKzaTSf"
   },
   "outputs": [],
   "source": [
    "# write list of features we want to use\n",
    "features = ['age', 'workclass', 'education_level', 'education-num',\n",
    "       'marital-status', 'occupation', 'relationship', 'race', 'sex',\n",
    "       'capital-gain', 'capital-loss', 'hours-per-week', 'native-country']\n",
    "\n",
    "# Set X\n",
    "X_temp = data[features]\n",
    "\n",
    "\n",
    "# Convert text to numeric\n",
    "X = pd.get_dummies(X_temp)\n",
    "\n",
    "\n",
    "# Set y\n",
    "y = data[\"income\"]\n",
    "y =pd.get_dummies(y)\n",
    "#y = y.drop('>50K',axis=1)\n"
   ]
  },
  {
   "cell_type": "code",
   "execution_count": 10,
   "metadata": {},
   "outputs": [],
   "source": [
    "y = y['<=50K']"
   ]
  },
  {
   "cell_type": "code",
   "execution_count": 11,
   "metadata": {},
   "outputs": [],
   "source": [
    "##SMOTE\n"
   ]
  },
  {
   "cell_type": "code",
   "execution_count": 12,
   "metadata": {},
   "outputs": [
    {
     "data": {
      "text/plain": [
       "(45222, 103)"
      ]
     },
     "execution_count": 12,
     "metadata": {},
     "output_type": "execute_result"
    }
   ],
   "source": [
    "X.shape"
   ]
  },
  {
   "cell_type": "markdown",
   "metadata": {
    "colab_type": "text",
    "id": "UOFASq7VePqZ"
   },
   "source": [
    "# 3. Train-Test Split  \n",
    "We use the training set for descriptive and diagnostic analytics and use the model we develop here to do predictive analytics on the test set."
   ]
  },
  {
   "cell_type": "code",
   "execution_count": 13,
   "metadata": {
    "colab": {},
    "colab_type": "code",
    "id": "_5I0FCC1dNZQ"
   },
   "outputs": [],
   "source": [
    "X_train, X_test, y_train, y_test = train_test_split(X, y, test_size = 0.4, random_state = 42)"
   ]
  },
  {
   "cell_type": "code",
   "execution_count": 14,
   "metadata": {},
   "outputs": [],
   "source": [
    "sm=SMOTE(random_state=42)\n",
    "X_train,y_train=sm.fit_sample(X_train,y_train)\n"
   ]
  },
  {
   "cell_type": "markdown",
   "metadata": {
    "colab_type": "text",
    "id": "yjE0h2uTf7IV"
   },
   "source": [
    "# 4. Predictive Analytics\n",
    "Train a model that predicts the house price nabased on all selected features\n"
   ]
  },
  {
   "cell_type": "code",
   "execution_count": 15,
   "metadata": {
    "colab": {
     "base_uri": "https://localhost:8080/",
     "height": 72
    },
    "colab_type": "code",
    "executionInfo": {
     "elapsed": 953,
     "status": "ok",
     "timestamp": 1570101633711,
     "user": {
      "displayName": "Xavier P",
      "photoUrl": "https://lh3.googleusercontent.com/a-/AAuE7mADcIs8VuWHhio3G1NE1HR7LLJzb8QdqCi-51KuKg=s64",
      "userId": "13816213392111942970"
     },
     "user_tz": -480
    },
    "id": "ZyryF3s6fshV",
    "outputId": "36604f62-df71-4533-c1ea-39a63643e288"
   },
   "outputs": [],
   "source": [
    "# initialize model\n",
    "XGB_Boost =XGBClassifier(n_estimators=100, learning_rate=1.0, max_depth=1, random_state=0).fit(X_train, y_train)\n",
    "\n",
    "# fit model\n",
    "#Gradient_Boost.fit(X_train, y_train)\n",
    "\n",
    "scores = cross_val_score(XGB_Boost, X_train, y_train, cv=10)\n",
    "\n",
    "# predictions\n",
    "y_pred = XGB_Boost.predict(X_test)\n",
    "\n",
    "\n",
    "\n",
    "\n"
   ]
  },
  {
   "cell_type": "code",
   "execution_count": 16,
   "metadata": {},
   "outputs": [
    {
     "name": "stdout",
     "output_type": "stream",
     "text": [
      "[0.80421982 0.80863592 0.81084396 0.88567223 0.91462218 0.91511286\n",
      " 0.91779141 0.92269939 0.91190184 0.91435583]\n"
     ]
    }
   ],
   "source": [
    "print(scores)"
   ]
  },
  {
   "cell_type": "code",
   "execution_count": 17,
   "metadata": {},
   "outputs": [
    {
     "data": {
      "text/plain": [
       "(18089,)"
      ]
     },
     "execution_count": 17,
     "metadata": {},
     "output_type": "execute_result"
    }
   ],
   "source": [
    "y_pred.shape"
   ]
  },
  {
   "cell_type": "code",
   "execution_count": 18,
   "metadata": {},
   "outputs": [
    {
     "name": "stdout",
     "output_type": "stream",
     "text": [
      "20084    0\n",
      "20027    1\n",
      "39505    1\n",
      "39534    1\n",
      "12586    0\n",
      "        ..\n",
      "26276    1\n",
      "18554    1\n",
      "17292    1\n",
      "36666    1\n",
      "17440    1\n",
      "Name: <=50K, Length: 18089, dtype: uint8\n"
     ]
    }
   ],
   "source": [
    "print(y_test)"
   ]
  },
  {
   "cell_type": "markdown",
   "metadata": {
    "colab_type": "text",
    "id": "rxFm6SMukEkM"
   },
   "source": [
    "# 5. Metrics"
   ]
  },
  {
   "cell_type": "markdown",
   "metadata": {
    "colab_type": "text",
    "id": "vZ_YRI5ql5sr"
   },
   "source": [
    "Classification report matrix"
   ]
  },
  {
   "cell_type": "code",
   "execution_count": 19,
   "metadata": {
    "scrolled": true
   },
   "outputs": [
    {
     "name": "stdout",
     "output_type": "stream",
     "text": [
      "              precision    recall  f1-score   support\n",
      "\n",
      "       <=50K       0.66      0.76      0.71      4453\n",
      "        >50k       0.92      0.87      0.89     13636\n",
      "\n",
      "    accuracy                           0.84     18089\n",
      "   macro avg       0.79      0.82      0.80     18089\n",
      "weighted avg       0.85      0.84      0.85     18089\n",
      "\n"
     ]
    }
   ],
   "source": [
    "target_names= ['<=50K', '>50k']\n",
    "print(classification_report(y_test, y_pred, target_names=target_names))\n"
   ]
  },
  {
   "cell_type": "markdown",
   "metadata": {
    "colab_type": "text",
    "id": "giVIlvPzlxOM"
   },
   "source": [
    "### What is a Confusion Matrix?  \n",
    "A confusion matrix is a summary of prediction results on a classification problem.  \n",
    "\n",
    "The number of correct and incorrect predictions are summarized with count values and broken down by each class. This is the key to the confusion matrix.  \n",
    "\n",
    "The confusion matrix shows the ways in which your classification model is confused when it makes predictions.  \n",
    "\n",
    "It gives you insight not only into the errors being made by your classifier but more importantly the types of errors that are being made.  \n",
    "\n",
    "It is this breakdown that overcomes the limitation of using classification accuracy alone.  "
   ]
  },
  {
   "cell_type": "code",
   "execution_count": 20,
   "metadata": {
    "colab": {
     "base_uri": "https://localhost:8080/",
     "height": 52
    },
    "colab_type": "code",
    "executionInfo": {
     "elapsed": 791,
     "status": "ok",
     "timestamp": 1570101634029,
     "user": {
      "displayName": "Xavier P",
      "photoUrl": "https://lh3.googleusercontent.com/a-/AAuE7mADcIs8VuWHhio3G1NE1HR7LLJzb8QdqCi-51KuKg=s64",
      "userId": "13816213392111942970"
     },
     "user_tz": -480
    },
    "id": "ENRacV8Pjvzd",
    "outputId": "6a214882-d653-43e6-fbfb-aaded49835a2"
   },
   "outputs": [
    {
     "data": {
      "text/plain": [
       "array([[ 3383,  1070],\n",
       "       [ 1757, 11879]], dtype=int64)"
      ]
     },
     "execution_count": 20,
     "metadata": {},
     "output_type": "execute_result"
    }
   ],
   "source": [
    "# confusion matrix\n",
    "cf = confusion_matrix(y_test, y_pred)\n",
    "cf"
   ]
  },
  {
   "cell_type": "code",
   "execution_count": 21,
   "metadata": {
    "colab": {
     "base_uri": "https://localhost:8080/",
     "height": 617
    },
    "colab_type": "code",
    "executionInfo": {
     "elapsed": 1579,
     "status": "ok",
     "timestamp": 1570101634927,
     "user": {
      "displayName": "Xavier P",
      "photoUrl": "https://lh3.googleusercontent.com/a-/AAuE7mADcIs8VuWHhio3G1NE1HR7LLJzb8QdqCi-51KuKg=s64",
      "userId": "13816213392111942970"
     },
     "user_tz": -480
    },
    "id": "Lp49Fx6mjyV5",
    "outputId": "70e5db3d-c617-4333-abd9-e12d15ca454e"
   },
   "outputs": [
    {
     "data": {
      "text/plain": [
       "<matplotlib.axes._subplots.AxesSubplot at 0x24c66cda288>"
      ]
     },
     "execution_count": 21,
     "metadata": {},
     "output_type": "execute_result"
    },
    {
     "data": {
      "image/png": "[encoded data removed]",
      "text/plain": [
       "<Figure size 432x288 with 2 Axes>"
      ]
     },
     "metadata": {
      "needs_background": "light"
     },
     "output_type": "display_data"
    }
   ],
   "source": [
    "# heatmap of confusion matrix \n",
    "sns.heatmap(cf, annot = True)"
   ]
  },
  {
   "cell_type": "markdown",
   "metadata": {
    "colab_type": "text",
    "id": "qIcZCHdqkAS6"
   },
   "source": [
    "# 7. Explain Results"
   ]
  },
  {
   "cell_type": "markdown",
   "metadata": {
    "colab_type": "text",
    "id": "kk86alYwkOOB"
   },
   "source": [
    "84% accuracy means the model is able to predict  the house price but it can be improved.  \n",
    "For the confusion matrix, we want the diagonal values to be higher than off diagonal values.   \n",
    "For the heatmap of confusion matrix, we want the diagonal to be darker than off diagonal."
   ]
  },
  {
   "cell_type": "markdown",
   "metadata": {
    "colab_type": "text",
    "id": "BjWRXnJ7PUwp"
   },
   "source": [
    "[Guide to confusion matrices](https://www.dataschool.io/simple-guide-to-confusion-matrix-terminology/)"
   ]
  },
  {
   "cell_type": "markdown",
   "metadata": {
    "colab_type": "text",
    "id": "2PeELdb-ipUD"
   },
   "source": [
    "# 8. Explain Predictions\n",
    "\n",
    "We can try out our model with new data to see if we can predict the house price based on provided features."
   ]
  },
  {
   "cell_type": "code",
   "execution_count": 22,
   "metadata": {
    "colab": {
     "base_uri": "https://localhost:8080/",
     "height": 123
    },
    "colab_type": "code",
    "executionInfo": {
     "elapsed": 1187,
     "status": "ok",
     "timestamp": 1570101637281,
     "user": {
      "displayName": "Xavier P",
      "photoUrl": "https://lh3.googleusercontent.com/a-/AAuE7mADcIs8VuWHhio3G1NE1HR7LLJzb8QdqCi-51KuKg=s64",
      "userId": "13816213392111942970"
     },
     "user_tz": -480
    },
    "id": "cxSaWojsf53M",
    "outputId": "b8965ecc-ef4e-40de-c22e-c6326391711d"
   },
   "outputs": [],
   "source": [
    "# Assign test data into new variable\n",
    "test_data = X_test\n",
    "\n",
    "# Create column to insert predictions\n",
    "test_data['predictions'] = y_pred"
   ]
  },
  {
   "cell_type": "code",
   "execution_count": 23,
   "metadata": {
    "colab": {
     "base_uri": "https://localhost:8080/",
     "height": 287
    },
    "colab_type": "code",
    "executionInfo": {
     "elapsed": 608,
     "status": "ok",
     "timestamp": 1570101637283,
     "user": {
      "displayName": "Xavier P",
      "photoUrl": "https://lh3.googleusercontent.com/a-/AAuE7mADcIs8VuWHhio3G1NE1HR7LLJzb8QdqCi-51KuKg=s64",
      "userId": "13816213392111942970"
     },
     "user_tz": -480
    },
    "id": "PQSclFZAgNjl",
    "outputId": "418eb2aa-1a0c-4ced-dc4f-835ff154bdbe"
   },
   "outputs": [
    {
     "data": {
      "text/html": [
       "<div>\n",
       "<style scoped>\n",
       "    .dataframe tbody tr th:only-of-type {\n",
       "        vertical-align: middle;\n",
       "    }\n",
       "\n",
       "    .dataframe tbody tr th {\n",
       "        vertical-align: top;\n",
       "    }\n",
       "\n",
       "    .dataframe thead th {\n",
       "        text-align: right;\n",
       "    }\n",
       "</style>\n",
       "<table border=\"1\" class=\"dataframe\">\n",
       "  <thead>\n",
       "    <tr style=\"text-align: right;\">\n",
       "      <th></th>\n",
       "      <th>age</th>\n",
       "      <th>education-num</th>\n",
       "      <th>capital-gain</th>\n",
       "      <th>capital-loss</th>\n",
       "      <th>hours-per-week</th>\n",
       "      <th>workclass_ Federal-gov</th>\n",
       "      <th>workclass_ Local-gov</th>\n",
       "      <th>workclass_ Private</th>\n",
       "      <th>workclass_ Self-emp-inc</th>\n",
       "      <th>workclass_ Self-emp-not-inc</th>\n",
       "      <th>...</th>\n",
       "      <th>native-country_ Puerto-Rico</th>\n",
       "      <th>native-country_ Scotland</th>\n",
       "      <th>native-country_ South</th>\n",
       "      <th>native-country_ Taiwan</th>\n",
       "      <th>native-country_ Thailand</th>\n",
       "      <th>native-country_ Trinadad&amp;Tobago</th>\n",
       "      <th>native-country_ United-States</th>\n",
       "      <th>native-country_ Vietnam</th>\n",
       "      <th>native-country_ Yugoslavia</th>\n",
       "      <th>predictions</th>\n",
       "    </tr>\n",
       "  </thead>\n",
       "  <tbody>\n",
       "    <tr>\n",
       "      <td>count</td>\n",
       "      <td>5140.000000</td>\n",
       "      <td>5140.000000</td>\n",
       "      <td>5140.000000</td>\n",
       "      <td>5140.000000</td>\n",
       "      <td>5140.000000</td>\n",
       "      <td>5140.000000</td>\n",
       "      <td>5140.000000</td>\n",
       "      <td>5140.000000</td>\n",
       "      <td>5140.000000</td>\n",
       "      <td>5140.000000</td>\n",
       "      <td>...</td>\n",
       "      <td>5140.000000</td>\n",
       "      <td>5140.000000</td>\n",
       "      <td>5140.000000</td>\n",
       "      <td>5140.000000</td>\n",
       "      <td>5140.000000</td>\n",
       "      <td>5140.0</td>\n",
       "      <td>5140.000000</td>\n",
       "      <td>5140.000000</td>\n",
       "      <td>5140.000000</td>\n",
       "      <td>5140.0</td>\n",
       "    </tr>\n",
       "    <tr>\n",
       "      <td>mean</td>\n",
       "      <td>44.296887</td>\n",
       "      <td>11.703891</td>\n",
       "      <td>3452.429183</td>\n",
       "      <td>184.538911</td>\n",
       "      <td>46.042802</td>\n",
       "      <td>0.053891</td>\n",
       "      <td>0.078794</td>\n",
       "      <td>0.670233</td>\n",
       "      <td>0.082685</td>\n",
       "      <td>0.074903</td>\n",
       "      <td>...</td>\n",
       "      <td>0.002335</td>\n",
       "      <td>0.000584</td>\n",
       "      <td>0.001751</td>\n",
       "      <td>0.001751</td>\n",
       "      <td>0.000778</td>\n",
       "      <td>0.0</td>\n",
       "      <td>0.931128</td>\n",
       "      <td>0.000778</td>\n",
       "      <td>0.001362</td>\n",
       "      <td>0.0</td>\n",
       "    </tr>\n",
       "    <tr>\n",
       "      <td>std</td>\n",
       "      <td>9.704497</td>\n",
       "      <td>2.153902</td>\n",
       "      <td>13435.585313</td>\n",
       "      <td>578.080235</td>\n",
       "      <td>10.338055</td>\n",
       "      <td>0.225825</td>\n",
       "      <td>0.269443</td>\n",
       "      <td>0.470174</td>\n",
       "      <td>0.275432</td>\n",
       "      <td>0.263260</td>\n",
       "      <td>...</td>\n",
       "      <td>0.048266</td>\n",
       "      <td>0.024154</td>\n",
       "      <td>0.041812</td>\n",
       "      <td>0.041812</td>\n",
       "      <td>0.027888</td>\n",
       "      <td>0.0</td>\n",
       "      <td>0.253260</td>\n",
       "      <td>0.027888</td>\n",
       "      <td>0.036882</td>\n",
       "      <td>0.0</td>\n",
       "    </tr>\n",
       "    <tr>\n",
       "      <td>min</td>\n",
       "      <td>21.000000</td>\n",
       "      <td>2.000000</td>\n",
       "      <td>0.000000</td>\n",
       "      <td>0.000000</td>\n",
       "      <td>2.000000</td>\n",
       "      <td>0.000000</td>\n",
       "      <td>0.000000</td>\n",
       "      <td>0.000000</td>\n",
       "      <td>0.000000</td>\n",
       "      <td>0.000000</td>\n",
       "      <td>...</td>\n",
       "      <td>0.000000</td>\n",
       "      <td>0.000000</td>\n",
       "      <td>0.000000</td>\n",
       "      <td>0.000000</td>\n",
       "      <td>0.000000</td>\n",
       "      <td>0.0</td>\n",
       "      <td>0.000000</td>\n",
       "      <td>0.000000</td>\n",
       "      <td>0.000000</td>\n",
       "      <td>0.0</td>\n",
       "    </tr>\n",
       "    <tr>\n",
       "      <td>25%</td>\n",
       "      <td>37.000000</td>\n",
       "      <td>10.000000</td>\n",
       "      <td>0.000000</td>\n",
       "      <td>0.000000</td>\n",
       "      <td>40.000000</td>\n",
       "      <td>0.000000</td>\n",
       "      <td>0.000000</td>\n",
       "      <td>0.000000</td>\n",
       "      <td>0.000000</td>\n",
       "      <td>0.000000</td>\n",
       "      <td>...</td>\n",
       "      <td>0.000000</td>\n",
       "      <td>0.000000</td>\n",
       "      <td>0.000000</td>\n",
       "      <td>0.000000</td>\n",
       "      <td>0.000000</td>\n",
       "      <td>0.0</td>\n",
       "      <td>1.000000</td>\n",
       "      <td>0.000000</td>\n",
       "      <td>0.000000</td>\n",
       "      <td>0.0</td>\n",
       "    </tr>\n",
       "    <tr>\n",
       "      <td>50%</td>\n",
       "      <td>44.000000</td>\n",
       "      <td>13.000000</td>\n",
       "      <td>0.000000</td>\n",
       "      <td>0.000000</td>\n",
       "      <td>44.000000</td>\n",
       "      <td>0.000000</td>\n",
       "      <td>0.000000</td>\n",
       "      <td>1.000000</td>\n",
       "      <td>0.000000</td>\n",
       "      <td>0.000000</td>\n",
       "      <td>...</td>\n",
       "      <td>0.000000</td>\n",
       "      <td>0.000000</td>\n",
       "      <td>0.000000</td>\n",
       "      <td>0.000000</td>\n",
       "      <td>0.000000</td>\n",
       "      <td>0.0</td>\n",
       "      <td>1.000000</td>\n",
       "      <td>0.000000</td>\n",
       "      <td>0.000000</td>\n",
       "      <td>0.0</td>\n",
       "    </tr>\n",
       "    <tr>\n",
       "      <td>75%</td>\n",
       "      <td>51.000000</td>\n",
       "      <td>13.000000</td>\n",
       "      <td>0.000000</td>\n",
       "      <td>0.000000</td>\n",
       "      <td>50.000000</td>\n",
       "      <td>0.000000</td>\n",
       "      <td>0.000000</td>\n",
       "      <td>1.000000</td>\n",
       "      <td>0.000000</td>\n",
       "      <td>0.000000</td>\n",
       "      <td>...</td>\n",
       "      <td>0.000000</td>\n",
       "      <td>0.000000</td>\n",
       "      <td>0.000000</td>\n",
       "      <td>0.000000</td>\n",
       "      <td>0.000000</td>\n",
       "      <td>0.0</td>\n",
       "      <td>1.000000</td>\n",
       "      <td>0.000000</td>\n",
       "      <td>0.000000</td>\n",
       "      <td>0.0</td>\n",
       "    </tr>\n",
       "    <tr>\n",
       "      <td>max</td>\n",
       "      <td>90.000000</td>\n",
       "      <td>16.000000</td>\n",
       "      <td>99999.000000</td>\n",
       "      <td>3004.000000</td>\n",
       "      <td>99.000000</td>\n",
       "      <td>1.000000</td>\n",
       "      <td>1.000000</td>\n",
       "      <td>1.000000</td>\n",
       "      <td>1.000000</td>\n",
       "      <td>1.000000</td>\n",
       "      <td>...</td>\n",
       "      <td>1.000000</td>\n",
       "      <td>1.000000</td>\n",
       "      <td>1.000000</td>\n",
       "      <td>1.000000</td>\n",
       "      <td>1.000000</td>\n",
       "      <td>0.0</td>\n",
       "      <td>1.000000</td>\n",
       "      <td>1.000000</td>\n",
       "      <td>1.000000</td>\n",
       "      <td>0.0</td>\n",
       "    </tr>\n",
       "  </tbody>\n",
       "</table>\n",
       "<p>8 rows × 104 columns</p>\n",
       "</div>"
      ],
      "text/plain": [
       "               age  education-num  capital-gain  capital-loss  hours-per-week  \\\n",
       "count  5140.000000    5140.000000   5140.000000   5140.000000     5140.000000   \n",
       "mean     44.296887      11.703891   3452.429183    184.538911       46.042802   \n",
       "std       9.704497       2.153902  13435.585313    578.080235       10.338055   \n",
       "min      21.000000       2.000000      0.000000      0.000000        2.000000   \n",
       "25%      37.000000      10.000000      0.000000      0.000000       40.000000   \n",
       "50%      44.000000      13.000000      0.000000      0.000000       44.000000   \n",
       "75%      51.000000      13.000000      0.000000      0.000000       50.000000   \n",
       "max      90.000000      16.000000  99999.000000   3004.000000       99.000000   \n",
       "\n",
       "       workclass_ Federal-gov  workclass_ Local-gov  workclass_ Private  \\\n",
       "count             5140.000000           5140.000000         5140.000000   \n",
       "mean                 0.053891              0.078794            0.670233   \n",
       "std                  0.225825              0.269443            0.470174   \n",
       "min                  0.000000              0.000000            0.000000   \n",
       "25%                  0.000000              0.000000            0.000000   \n",
       "50%                  0.000000              0.000000            1.000000   \n",
       "75%                  0.000000              0.000000            1.000000   \n",
       "max                  1.000000              1.000000            1.000000   \n",
       "\n",
       "       workclass_ Self-emp-inc  workclass_ Self-emp-not-inc  ...  \\\n",
       "count              5140.000000                  5140.000000  ...   \n",
       "mean                  0.082685                     0.074903  ...   \n",
       "std                   0.275432                     0.263260  ...   \n",
       "min                   0.000000                     0.000000  ...   \n",
       "25%                   0.000000                     0.000000  ...   \n",
       "50%                   0.000000                     0.000000  ...   \n",
       "75%                   0.000000                     0.000000  ...   \n",
       "max                   1.000000                     1.000000  ...   \n",
       "\n",
       "       native-country_ Puerto-Rico  native-country_ Scotland  \\\n",
       "count                  5140.000000               5140.000000   \n",
       "mean                      0.002335                  0.000584   \n",
       "std                       0.048266                  0.024154   \n",
       "min                       0.000000                  0.000000   \n",
       "25%                       0.000000                  0.000000   \n",
       "50%                       0.000000                  0.000000   \n",
       "75%                       0.000000                  0.000000   \n",
       "max                       1.000000                  1.000000   \n",
       "\n",
       "       native-country_ South  native-country_ Taiwan  \\\n",
       "count            5140.000000             5140.000000   \n",
       "mean                0.001751                0.001751   \n",
       "std                 0.041812                0.041812   \n",
       "min                 0.000000                0.000000   \n",
       "25%                 0.000000                0.000000   \n",
       "50%                 0.000000                0.000000   \n",
       "75%                 0.000000                0.000000   \n",
       "max                 1.000000                1.000000   \n",
       "\n",
       "       native-country_ Thailand  native-country_ Trinadad&Tobago  \\\n",
       "count               5140.000000                           5140.0   \n",
       "mean                   0.000778                              0.0   \n",
       "std                    0.027888                              0.0   \n",
       "min                    0.000000                              0.0   \n",
       "25%                    0.000000                              0.0   \n",
       "50%                    0.000000                              0.0   \n",
       "75%                    0.000000                              0.0   \n",
       "max                    1.000000                              0.0   \n",
       "\n",
       "       native-country_ United-States  native-country_ Vietnam  \\\n",
       "count                    5140.000000              5140.000000   \n",
       "mean                        0.931128                 0.000778   \n",
       "std                         0.253260                 0.027888   \n",
       "min                         0.000000                 0.000000   \n",
       "25%                         1.000000                 0.000000   \n",
       "50%                         1.000000                 0.000000   \n",
       "75%                         1.000000                 0.000000   \n",
       "max                         1.000000                 1.000000   \n",
       "\n",
       "       native-country_ Yugoslavia  predictions  \n",
       "count                 5140.000000       5140.0  \n",
       "mean                     0.001362          0.0  \n",
       "std                      0.036882          0.0  \n",
       "min                      0.000000          0.0  \n",
       "25%                      0.000000          0.0  \n",
       "50%                      0.000000          0.0  \n",
       "75%                      0.000000          0.0  \n",
       "max                      1.000000          0.0  \n",
       "\n",
       "[8 rows x 104 columns]"
      ]
     },
     "execution_count": 23,
     "metadata": {},
     "output_type": "execute_result"
    }
   ],
   "source": [
    "# Describe why the \n",
    "test_data[test_data['predictions']==0].describe()"
   ]
  },
  {
   "cell_type": "code",
   "execution_count": 24,
   "metadata": {
    "colab": {
     "base_uri": "https://localhost:8080/",
     "height": 287
    },
    "colab_type": "code",
    "executionInfo": {
     "elapsed": 595,
     "status": "ok",
     "timestamp": 1570101638231,
     "user": {
      "displayName": "Xavier P",
      "photoUrl": "https://lh3.googleusercontent.com/a-/AAuE7mADcIs8VuWHhio3G1NE1HR7LLJzb8QdqCi-51KuKg=s64",
      "userId": "13816213392111942970"
     },
     "user_tz": -480
    },
    "id": "cvm6HPNWgSX5",
    "outputId": "f02c9b17-fde1-4514-e657-9931a14244f7",
    "scrolled": true
   },
   "outputs": [
    {
     "data": {
      "text/html": [
       "<div>\n",
       "<style scoped>\n",
       "    .dataframe tbody tr th:only-of-type {\n",
       "        vertical-align: middle;\n",
       "    }\n",
       "\n",
       "    .dataframe tbody tr th {\n",
       "        vertical-align: top;\n",
       "    }\n",
       "\n",
       "    .dataframe thead th {\n",
       "        text-align: right;\n",
       "    }\n",
       "</style>\n",
       "<table border=\"1\" class=\"dataframe\">\n",
       "  <thead>\n",
       "    <tr style=\"text-align: right;\">\n",
       "      <th></th>\n",
       "      <th>age</th>\n",
       "      <th>education-num</th>\n",
       "      <th>capital-gain</th>\n",
       "      <th>capital-loss</th>\n",
       "      <th>hours-per-week</th>\n",
       "      <th>workclass_ Federal-gov</th>\n",
       "      <th>workclass_ Local-gov</th>\n",
       "      <th>workclass_ Private</th>\n",
       "      <th>workclass_ Self-emp-inc</th>\n",
       "      <th>workclass_ Self-emp-not-inc</th>\n",
       "      <th>...</th>\n",
       "      <th>native-country_ Puerto-Rico</th>\n",
       "      <th>native-country_ Scotland</th>\n",
       "      <th>native-country_ South</th>\n",
       "      <th>native-country_ Taiwan</th>\n",
       "      <th>native-country_ Thailand</th>\n",
       "      <th>native-country_ Trinadad&amp;Tobago</th>\n",
       "      <th>native-country_ United-States</th>\n",
       "      <th>native-country_ Vietnam</th>\n",
       "      <th>native-country_ Yugoslavia</th>\n",
       "      <th>predictions</th>\n",
       "    </tr>\n",
       "  </thead>\n",
       "  <tbody>\n",
       "    <tr>\n",
       "      <td>count</td>\n",
       "      <td>12949.000000</td>\n",
       "      <td>12949.000000</td>\n",
       "      <td>12949.000000</td>\n",
       "      <td>12949.000000</td>\n",
       "      <td>12949.000000</td>\n",
       "      <td>12949.000000</td>\n",
       "      <td>12949.000000</td>\n",
       "      <td>12949.000000</td>\n",
       "      <td>12949.000000</td>\n",
       "      <td>12949.000000</td>\n",
       "      <td>...</td>\n",
       "      <td>12949.000000</td>\n",
       "      <td>12949.000000</td>\n",
       "      <td>12949.000000</td>\n",
       "      <td>12949.000000</td>\n",
       "      <td>12949.000000</td>\n",
       "      <td>12949.000000</td>\n",
       "      <td>12949.000000</td>\n",
       "      <td>12949.000000</td>\n",
       "      <td>12949.000000</td>\n",
       "      <td>12949.0</td>\n",
       "    </tr>\n",
       "    <tr>\n",
       "      <td>mean</td>\n",
       "      <td>36.248204</td>\n",
       "      <td>9.481659</td>\n",
       "      <td>153.014673</td>\n",
       "      <td>50.768631</td>\n",
       "      <td>38.858908</td>\n",
       "      <td>0.022087</td>\n",
       "      <td>0.064407</td>\n",
       "      <td>0.766237</td>\n",
       "      <td>0.016217</td>\n",
       "      <td>0.086879</td>\n",
       "      <td>...</td>\n",
       "      <td>0.004865</td>\n",
       "      <td>0.000541</td>\n",
       "      <td>0.002548</td>\n",
       "      <td>0.000618</td>\n",
       "      <td>0.001081</td>\n",
       "      <td>0.000618</td>\n",
       "      <td>0.905398</td>\n",
       "      <td>0.002471</td>\n",
       "      <td>0.000386</td>\n",
       "      <td>1.0</td>\n",
       "    </tr>\n",
       "    <tr>\n",
       "      <td>std</td>\n",
       "      <td>13.692298</td>\n",
       "      <td>2.386097</td>\n",
       "      <td>864.011247</td>\n",
       "      <td>302.340147</td>\n",
       "      <td>11.958194</td>\n",
       "      <td>0.146971</td>\n",
       "      <td>0.245485</td>\n",
       "      <td>0.423240</td>\n",
       "      <td>0.126316</td>\n",
       "      <td>0.281669</td>\n",
       "      <td>...</td>\n",
       "      <td>0.069584</td>\n",
       "      <td>0.023245</td>\n",
       "      <td>0.050420</td>\n",
       "      <td>0.024849</td>\n",
       "      <td>0.032865</td>\n",
       "      <td>0.024849</td>\n",
       "      <td>0.292676</td>\n",
       "      <td>0.049652</td>\n",
       "      <td>0.019647</td>\n",
       "      <td>0.0</td>\n",
       "    </tr>\n",
       "    <tr>\n",
       "      <td>min</td>\n",
       "      <td>17.000000</td>\n",
       "      <td>1.000000</td>\n",
       "      <td>0.000000</td>\n",
       "      <td>0.000000</td>\n",
       "      <td>1.000000</td>\n",
       "      <td>0.000000</td>\n",
       "      <td>0.000000</td>\n",
       "      <td>0.000000</td>\n",
       "      <td>0.000000</td>\n",
       "      <td>0.000000</td>\n",
       "      <td>...</td>\n",
       "      <td>0.000000</td>\n",
       "      <td>0.000000</td>\n",
       "      <td>0.000000</td>\n",
       "      <td>0.000000</td>\n",
       "      <td>0.000000</td>\n",
       "      <td>0.000000</td>\n",
       "      <td>0.000000</td>\n",
       "      <td>0.000000</td>\n",
       "      <td>0.000000</td>\n",
       "      <td>1.0</td>\n",
       "    </tr>\n",
       "    <tr>\n",
       "      <td>25%</td>\n",
       "      <td>25.000000</td>\n",
       "      <td>9.000000</td>\n",
       "      <td>0.000000</td>\n",
       "      <td>0.000000</td>\n",
       "      <td>36.000000</td>\n",
       "      <td>0.000000</td>\n",
       "      <td>0.000000</td>\n",
       "      <td>1.000000</td>\n",
       "      <td>0.000000</td>\n",
       "      <td>0.000000</td>\n",
       "      <td>...</td>\n",
       "      <td>0.000000</td>\n",
       "      <td>0.000000</td>\n",
       "      <td>0.000000</td>\n",
       "      <td>0.000000</td>\n",
       "      <td>0.000000</td>\n",
       "      <td>0.000000</td>\n",
       "      <td>1.000000</td>\n",
       "      <td>0.000000</td>\n",
       "      <td>0.000000</td>\n",
       "      <td>1.0</td>\n",
       "    </tr>\n",
       "    <tr>\n",
       "      <td>50%</td>\n",
       "      <td>33.000000</td>\n",
       "      <td>9.000000</td>\n",
       "      <td>0.000000</td>\n",
       "      <td>0.000000</td>\n",
       "      <td>40.000000</td>\n",
       "      <td>0.000000</td>\n",
       "      <td>0.000000</td>\n",
       "      <td>1.000000</td>\n",
       "      <td>0.000000</td>\n",
       "      <td>0.000000</td>\n",
       "      <td>...</td>\n",
       "      <td>0.000000</td>\n",
       "      <td>0.000000</td>\n",
       "      <td>0.000000</td>\n",
       "      <td>0.000000</td>\n",
       "      <td>0.000000</td>\n",
       "      <td>0.000000</td>\n",
       "      <td>1.000000</td>\n",
       "      <td>0.000000</td>\n",
       "      <td>0.000000</td>\n",
       "      <td>1.0</td>\n",
       "    </tr>\n",
       "    <tr>\n",
       "      <td>75%</td>\n",
       "      <td>45.000000</td>\n",
       "      <td>10.000000</td>\n",
       "      <td>0.000000</td>\n",
       "      <td>0.000000</td>\n",
       "      <td>40.000000</td>\n",
       "      <td>0.000000</td>\n",
       "      <td>0.000000</td>\n",
       "      <td>1.000000</td>\n",
       "      <td>0.000000</td>\n",
       "      <td>0.000000</td>\n",
       "      <td>...</td>\n",
       "      <td>0.000000</td>\n",
       "      <td>0.000000</td>\n",
       "      <td>0.000000</td>\n",
       "      <td>0.000000</td>\n",
       "      <td>0.000000</td>\n",
       "      <td>0.000000</td>\n",
       "      <td>1.000000</td>\n",
       "      <td>0.000000</td>\n",
       "      <td>0.000000</td>\n",
       "      <td>1.0</td>\n",
       "    </tr>\n",
       "    <tr>\n",
       "      <td>max</td>\n",
       "      <td>90.000000</td>\n",
       "      <td>16.000000</td>\n",
       "      <td>34095.000000</td>\n",
       "      <td>3900.000000</td>\n",
       "      <td>99.000000</td>\n",
       "      <td>1.000000</td>\n",
       "      <td>1.000000</td>\n",
       "      <td>1.000000</td>\n",
       "      <td>1.000000</td>\n",
       "      <td>1.000000</td>\n",
       "      <td>...</td>\n",
       "      <td>1.000000</td>\n",
       "      <td>1.000000</td>\n",
       "      <td>1.000000</td>\n",
       "      <td>1.000000</td>\n",
       "      <td>1.000000</td>\n",
       "      <td>1.000000</td>\n",
       "      <td>1.000000</td>\n",
       "      <td>1.000000</td>\n",
       "      <td>1.000000</td>\n",
       "      <td>1.0</td>\n",
       "    </tr>\n",
       "  </tbody>\n",
       "</table>\n",
       "<p>8 rows × 104 columns</p>\n",
       "</div>"
      ],
      "text/plain": [
       "                age  education-num  capital-gain  capital-loss  \\\n",
       "count  12949.000000   12949.000000  12949.000000  12949.000000   \n",
       "mean      36.248204       9.481659    153.014673     50.768631   \n",
       "std       13.692298       2.386097    864.011247    302.340147   \n",
       "min       17.000000       1.000000      0.000000      0.000000   \n",
       "25%       25.000000       9.000000      0.000000      0.000000   \n",
       "50%       33.000000       9.000000      0.000000      0.000000   \n",
       "75%       45.000000      10.000000      0.000000      0.000000   \n",
       "max       90.000000      16.000000  34095.000000   3900.000000   \n",
       "\n",
       "       hours-per-week  workclass_ Federal-gov  workclass_ Local-gov  \\\n",
       "count    12949.000000            12949.000000          12949.000000   \n",
       "mean        38.858908                0.022087              0.064407   \n",
       "std         11.958194                0.146971              0.245485   \n",
       "min          1.000000                0.000000              0.000000   \n",
       "25%         36.000000                0.000000              0.000000   \n",
       "50%         40.000000                0.000000              0.000000   \n",
       "75%         40.000000                0.000000              0.000000   \n",
       "max         99.000000                1.000000              1.000000   \n",
       "\n",
       "       workclass_ Private  workclass_ Self-emp-inc  \\\n",
       "count        12949.000000             12949.000000   \n",
       "mean             0.766237                 0.016217   \n",
       "std              0.423240                 0.126316   \n",
       "min              0.000000                 0.000000   \n",
       "25%              1.000000                 0.000000   \n",
       "50%              1.000000                 0.000000   \n",
       "75%              1.000000                 0.000000   \n",
       "max              1.000000                 1.000000   \n",
       "\n",
       "       workclass_ Self-emp-not-inc  ...  native-country_ Puerto-Rico  \\\n",
       "count                 12949.000000  ...                 12949.000000   \n",
       "mean                      0.086879  ...                     0.004865   \n",
       "std                       0.281669  ...                     0.069584   \n",
       "min                       0.000000  ...                     0.000000   \n",
       "25%                       0.000000  ...                     0.000000   \n",
       "50%                       0.000000  ...                     0.000000   \n",
       "75%                       0.000000  ...                     0.000000   \n",
       "max                       1.000000  ...                     1.000000   \n",
       "\n",
       "       native-country_ Scotland  native-country_ South  \\\n",
       "count              12949.000000           12949.000000   \n",
       "mean                   0.000541               0.002548   \n",
       "std                    0.023245               0.050420   \n",
       "min                    0.000000               0.000000   \n",
       "25%                    0.000000               0.000000   \n",
       "50%                    0.000000               0.000000   \n",
       "75%                    0.000000               0.000000   \n",
       "max                    1.000000               1.000000   \n",
       "\n",
       "       native-country_ Taiwan  native-country_ Thailand  \\\n",
       "count            12949.000000              12949.000000   \n",
       "mean                 0.000618                  0.001081   \n",
       "std                  0.024849                  0.032865   \n",
       "min                  0.000000                  0.000000   \n",
       "25%                  0.000000                  0.000000   \n",
       "50%                  0.000000                  0.000000   \n",
       "75%                  0.000000                  0.000000   \n",
       "max                  1.000000                  1.000000   \n",
       "\n",
       "       native-country_ Trinadad&Tobago  native-country_ United-States  \\\n",
       "count                     12949.000000                   12949.000000   \n",
       "mean                          0.000618                       0.905398   \n",
       "std                           0.024849                       0.292676   \n",
       "min                           0.000000                       0.000000   \n",
       "25%                           0.000000                       1.000000   \n",
       "50%                           0.000000                       1.000000   \n",
       "75%                           0.000000                       1.000000   \n",
       "max                           1.000000                       1.000000   \n",
       "\n",
       "       native-country_ Vietnam  native-country_ Yugoslavia  predictions  \n",
       "count             12949.000000                12949.000000      12949.0  \n",
       "mean                  0.002471                    0.000386          1.0  \n",
       "std                   0.049652                    0.019647          0.0  \n",
       "min                   0.000000                    0.000000          1.0  \n",
       "25%                   0.000000                    0.000000          1.0  \n",
       "50%                   0.000000                    0.000000          1.0  \n",
       "75%                   0.000000                    0.000000          1.0  \n",
       "max                   1.000000                    1.000000          1.0  \n",
       "\n",
       "[8 rows x 104 columns]"
      ]
     },
     "execution_count": 24,
     "metadata": {},
     "output_type": "execute_result"
    }
   ],
   "source": [
    "test_data[test_data['predictions']==1].describe()"
   ]
  }
 ],
 "metadata": {
  "colab": {
   "collapsed_sections": [],
   "name": "Copy of IntroClassification.ipynb",
   "provenance": [
    {
     "file_id": "1rRhAtLxqMYDb9S0_c1hgY-WU03PRdUrs",
     "timestamp": 1571945339778
    }
   ],
   "toc_visible": true
  },
  "kernelspec": {
   "display_name": "Python 3",
   "language": "python",
   "name": "python3"
  },
  "language_info": {
   "codemirror_mode": {
    "name": "ipython",
    "version": 3
   },
   "file_extension": ".py",
   "mimetype": "text/x-python",
   "name": "python",
   "nbconvert_exporter": "python",
   "pygments_lexer": "ipython3",
   "version": "3.7.4"
  }
 },
 "nbformat": 4,
 "nbformat_minor": 1
}
